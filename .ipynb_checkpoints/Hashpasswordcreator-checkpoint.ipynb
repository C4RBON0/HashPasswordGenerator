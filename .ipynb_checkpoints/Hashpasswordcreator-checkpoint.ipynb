{
 "cells": [
  {
   "cell_type": "markdown",
   "metadata": {
    "colab_type": "text",
    "id": "view-in-github"
   },
   "source": [
    "<a href=\"https://colab.research.google.com/github/C4RBON0/HashPasswordGenerator/blob/main/Hashpasswordcreator.ipynb\" target=\"_parent\"><img src=\"https://colab.research.google.com/assets/colab-badge.svg\" alt=\"Open In Colab\"/></a>"
   ]
  },
  {
   "cell_type": "code",
   "execution_count": 2,
   "metadata": {
    "colab": {
     "base_uri": "https://localhost:8080/"
    },
    "id": "OT6glb1wSSnh",
    "outputId": "1b0f9976-46ef-4787-acec-1c9a3de99c88"
   },
   "outputs": [
    {
     "name": "stdout",
     "output_type": "stream",
     "text": [
      "\n",
      "Convertidor contraseña a Hash\n",
      "\n",
      "Opciones:\n",
      "1. Hashear una contraseña\n",
      "2. Crackear un hash MD5 con fuerza bruta\n",
      "3. Salir\n"
     ]
    },
    {
     "name": "stdin",
     "output_type": "stream",
     "text": [
      "Seleccione una opción:  1\n",
      "Introduce la contraseña a cifrar:  abc1(\n"
     ]
    },
    {
     "name": "stdout",
     "output_type": "stream",
     "text": [
      "Seleccione el modo de hashing\n",
      "1- MD5\n",
      "2- SHA1\n",
      "3- SHA256\n",
      "4- SHA512\n"
     ]
    },
    {
     "name": "stdin",
     "output_type": "stream",
     "text": [
      "Opcion:  1\n"
     ]
    },
    {
     "name": "stdout",
     "output_type": "stream",
     "text": [
      "d0bc986a5ad4c7440b6cb0475d6733a3\n",
      "\n",
      "Opciones:\n",
      "1. Hashear una contraseña\n",
      "2. Crackear un hash MD5 con fuerza bruta\n",
      "3. Salir\n"
     ]
    },
    {
     "name": "stdin",
     "output_type": "stream",
     "text": [
      "Seleccione una opción:  2\n",
      "Introduce el hash MD5 a crackear:  d0bc986a5ad4c7440b6cb0475d6733a3\n"
     ]
    },
    {
     "name": "stdout",
     "output_type": "stream",
     "text": [
      "Crackeando con fuerza bruta...\n",
      "Texto encontrado: abc1(\n",
      "\n",
      "Opciones:\n",
      "1. Hashear una contraseña\n",
      "2. Crackear un hash MD5 con fuerza bruta\n",
      "3. Salir\n"
     ]
    },
    {
     "name": "stdin",
     "output_type": "stream",
     "text": [
      "Seleccione una opción:  3\n"
     ]
    }
   ],
   "source": [
    "#Angel Cervera Ronda\n",
    "import hashlib\n",
    "import itertools\n",
    "\n",
    "def hashear_contraseña():\n",
    "  contraseña = input(\"Introduce la contraseña a cifrar: \").encode('utf-8')\n",
    "\n",
    "  print(\"Seleccione el modo de hashing\")\n",
    "  print(\"1- MD5\")\n",
    "  print(\"2- SHA1\")\n",
    "  print(\"3- SHA256\")\n",
    "  print(\"4- SHA512\")\n",
    "\n",
    "  opcion = int(input(\"Opcion: \"))\n",
    "\n",
    "  if opcion == 1:\n",
    "      hash_object = hashlib.md5(contraseña)\n",
    "      hex_dig = hash_object.hexdigest()\n",
    "      print(hex_dig)\n",
    "  elif opcion == 2:\n",
    "      hash_object = hashlib.sha1(contraseña)\n",
    "      hex_dig = hash_object.hexdigest()\n",
    "      print(hex_dig)\n",
    "  elif opcion == 3:\n",
    "      hash_object = hashlib.sha256(contraseña)\n",
    "      hex_dig = hash_object.hexdigest()\n",
    "      print(hex_dig)\n",
    "  elif opcion == 4:\n",
    "      hash_object = hashlib.sha512(contraseña)\n",
    "      hex_dig = hash_object.hexdigest()\n",
    "      print(hex_dig)\n",
    "  else:\n",
    "      print(\"Opcion no valida\")\n",
    "\n",
    "def crack_md5_fuerzabruta(charset, max_length):\n",
    "    md5_hash = input(\"Introduce el hash MD5 a crackear: \")\n",
    "    print(\"Crackeando con fuerza bruta...\")\n",
    "    for length in range(1, max_length + 1):\n",
    "        for guess in itertools.product(charset, repeat=length):\n",
    "            word = \"\".join(guess)\n",
    "            if hashlib.md5(word.encode()).hexdigest() == md5_hash:\n",
    "                print(\"Texto encontrado:\", word)\n",
    "                return\n",
    "    print(\"No encontrado con fuerza bruta.\")\n",
    "\n",
    "\n",
    "def main():\n",
    "\n",
    "\n",
    "  print(\"\\nConvertidor contraseña a Hash\")\n",
    "  charset = \"abcdefghijklmnopqrstuvwxyzABCDEFGHIJKLMNOPQRSTUVWXYZ0123456789!@#$%^&*()\"\n",
    "\n",
    "\n",
    "\n",
    "  while True:\n",
    "    print(\"\\nOpciones:\")\n",
    "    print(\"1. Hashear una contraseña\")\n",
    "    print(\"2. Crackear un hash MD5 con fuerza bruta\")\n",
    "    print(\"3. Salir\")\n",
    "\n",
    "    opcion = input(\"Seleccione una opción: \")\n",
    "\n",
    "    if opcion == \"1\":\n",
    "      hashear_contraseña()\n",
    "    elif opcion == \"2\":\n",
    "      crack_md5_fuerzabruta(charset,5)\n",
    "    elif opcion == \"3\":\n",
    "      break\n",
    "    else:\n",
    "      print(\"Opción no válida. Por favor, seleccione una opción válida.\")\n",
    "\n",
    "\n",
    "\n",
    "if __name__ == \"__main__\":\n",
    "    main()\n",
    "\n"
   ]
  }
 ],
 "metadata": {
  "colab": {
   "authorship_tag": "ABX9TyOD8St8b4n6LLLiLAgbrVMq",
   "include_colab_link": true,
   "provenance": []
  },
  "kernelspec": {
   "display_name": "Python [conda env:base] *",
   "language": "python",
   "name": "conda-base-py"
  },
  "language_info": {
   "codemirror_mode": {
    "name": "ipython",
    "version": 3
   },
   "file_extension": ".py",
   "mimetype": "text/x-python",
   "name": "python",
   "nbconvert_exporter": "python",
   "pygments_lexer": "ipython3",
   "version": "3.12.7"
  }
 },
 "nbformat": 4,
 "nbformat_minor": 4
}
