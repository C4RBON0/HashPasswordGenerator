{
  "nbformat": 4,
  "nbformat_minor": 0,
  "metadata": {
    "colab": {
      "provenance": [],
      "authorship_tag": "ABX9TyOD8St8b4n6LLLiLAgbrVMq",
      "include_colab_link": true
    },
    "kernelspec": {
      "name": "python3",
      "display_name": "Python 3"
    },
    "language_info": {
      "name": "python"
    }
  },
  "cells": [
    {
      "cell_type": "markdown",
      "metadata": {
        "id": "view-in-github",
        "colab_type": "text"
      },
      "source": [
        "<a href=\"https://colab.research.google.com/github/C4RBON0/HashPasswordGenerator/blob/main/Hashpasswordcreator.ipynb\" target=\"_parent\"><img src=\"https://colab.research.google.com/assets/colab-badge.svg\" alt=\"Open In Colab\"/></a>"
      ]
    },
    {
      "cell_type": "code",
      "execution_count": 5,
      "metadata": {
        "colab": {
          "base_uri": "https://localhost:8080/"
        },
        "collapsed": true,
        "id": "OT6glb1wSSnh",
        "outputId": "1b0f9976-46ef-4787-acec-1c9a3de99c88"
      },
      "outputs": [
        {
          "output_type": "stream",
          "name": "stdout",
          "text": [
            "Convertidor contraseña a Hash\n",
            "Introduce la contraseña a cifrar: pepe\n",
            "Seleccione el modo de hashing\n",
            "1- MD5\n",
            "2- SHA1\n",
            "3- SHA256\n",
            "4- SHA512\n",
            "Opcion: 5\n",
            "Opcion no valida\n"
          ]
        }
      ],
      "source": [
        "import hashlib\n",
        "\n",
        "print(\"Convertidor contraseña a Hash\")\n",
        "\n",
        "contraseña = input(\"Introduce la contraseña a cifrar: \")\n",
        "contraseña = \"my_password\".encode('utf-8')\n",
        "\n",
        "print(\"Seleccione el modo de hashing\")\n",
        "print(\"1- MD5\")\n",
        "print(\"2- SHA1\")\n",
        "print(\"3- SHA256\")\n",
        "print(\"4- SHA512\")\n",
        "\n",
        "opcion = int(input(\"Opcion: \"))\n",
        "\n",
        "if opcion == 1:\n",
        "    hash_object = hashlib.md5(contraseña)\n",
        "    hex_dig = hash_object.hexdigest()\n",
        "    print(hex_dig)\n",
        "elif opcion == 2:\n",
        "    hash_object = hashlib.sha1(contraseña)\n",
        "    hex_dig = hash_object.hexdigest()\n",
        "    print(hex_dig)\n",
        "elif opcion == 3:\n",
        "    hash_object = hashlib.sha256(contraseña)\n",
        "    hex_dig = hash_object.hexdigest()\n",
        "    print(hex_dig)\n",
        "elif opcion == 4:\n",
        "    hash_object = hashlib.sha512(contraseña)\n",
        "    hex_dig = hash_object.hexdigest()\n",
        "    print(hex_dig)\n",
        "else:\n",
        "    print(\"Opcion no valida\")\n",
        "\n",
        "\n"
      ]
    }
  ]
}